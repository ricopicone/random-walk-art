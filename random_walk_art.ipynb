{
 "cells": [
  {
   "cell_type": "markdown",
   "metadata": {},
   "source": [
    "Brainstorm: what kind of features do we want to play with?\n",
    "\n",
    "- 2D (extensible easily to 3D)\n",
    "- straight edges between but with some alpha/opacity to show accumulation\n",
    "- multi- simultaneous walks at specifiable starting positions\n",
    "- coordinate system: Cartesian or polar\n",
    "- make step size variable based on different probability distributions."
   ]
  },
  {
   "cell_type": "code",
   "execution_count": 228,
   "metadata": {},
   "outputs": [],
   "source": [
    "import numpy as np\n",
    "import scipy as sp\n",
    "import matplotlib.pyplot as plt\n",
    "from mpl_toolkits.mplot3d import Axes3D\n",
    "from matplotlib import colors as mcolors\n",
    "colors = dict(mcolors.BASE_COLORS, **mcolors.CSS4_COLORS)\n",
    "import random as rn"
   ]
  },
  {
   "cell_type": "code",
   "execution_count": 220,
   "metadata": {},
   "outputs": [],
   "source": [
    "n_steps = 10 # number of steps in walks\n",
    "starting_points = [ \n",
    "  [1,1], [0,0], [0,-1]\n",
    "]\n",
    "coordinate_system = 'cartesian' # 'cartesian' or 'polar'\n",
    "\n",
    "def iterate(\n",
    "  coordinate_system='cartesian',\n",
    "  in_point=[0,0],\n",
    "  step_size=[1,1],\n",
    "  prob_distribution='uniform',\n",
    "  random_seed=None\n",
    "):\n",
    "  in_point = np.array(in_point)\n",
    "  step_size = np.array(step_size)\n",
    "  dims = len(in_point)\n",
    "  rn.seed = random_seed\n",
    "  step = np.zeros(dims)\n",
    "  if prob_distribution == 'uniform':\n",
    "    i_rand = rn.choice(range(0,dims))\n",
    "    step[i_rand] = rn.choice([-1,1])*step_size[i_rand]\n",
    "  return in_point+step"
   ]
  },
  {
   "cell_type": "code",
   "execution_count": 221,
   "metadata": {},
   "outputs": [],
   "source": [
    "def walker(\n",
    "  coordinate_system='cartesian',\n",
    "  starting_point=[0,0],\n",
    "  step_type='constant',\n",
    "  step_size=[1,1],\n",
    "  n_steps=10,\n",
    "  random_seed=None,\n",
    "):\n",
    "  dim = len(starting_point)\n",
    "  rn.seed = random_seed\n",
    "  walk_a = np.zeros([n_steps,dim])\n",
    "  walk_a[0,:] = np.array(starting_point)\n",
    "  if step_type == 'constant':\n",
    "    for i in range(1,n_steps):\n",
    "      walk_a[i] = iterate(\n",
    "        coordinate_system=coordinate_system,\n",
    "        in_point=walk_a[i-1,:],\n",
    "        step_size=step_size,\n",
    "        prob_distribution='uniform',\n",
    "        random_seed=random_seed\n",
    "      )\n",
    "  return walk_a"
   ]
  },
  {
   "cell_type": "code",
   "execution_count": 222,
   "metadata": {},
   "outputs": [],
   "source": [
    "def multi_walker(\n",
    "  coordinate_system='cartesian',\n",
    "  starting_points=[[0,0],[1,1]],\n",
    "  step_type='constant',\n",
    "  step_sizes=[[1,1],[2,2]],\n",
    "  n_steps=10,\n",
    "  random_seed=None,\n",
    "):\n",
    "  rn.seed = random_seed\n",
    "  walks_a = np.zeros([\n",
    "    n_steps,\n",
    "    len(starting_points[0]), # dim\n",
    "    len(starting_points) # number of walks\n",
    "  ])\n",
    "  for i in range(0,len(starting_points)):\n",
    "    walks_a[:,:,i] = walker(\n",
    "      coordinate_system=coordinate_system,\n",
    "      starting_point=starting_points[i],\n",
    "      step_type=step_type,\n",
    "      step_size=step_sizes[i],\n",
    "      n_steps=n_steps,\n",
    "      random_seed=random_seed,\n",
    "    )\n",
    "  return walks_a"
   ]
  },
  {
   "cell_type": "code",
   "execution_count": 223,
   "metadata": {},
   "outputs": [],
   "source": [
    "a = multi_walker(\n",
    "  n_steps=10,\n",
    "  starting_points=[[-10,-10],[0,0],[10,10]],\n",
    "  step_sizes=[[2,1],[2,1],[2,1]]\n",
    ")"
   ]
  },
  {
   "cell_type": "code",
   "execution_count": 235,
   "metadata": {},
   "outputs": [
    {
     "data": {
      "image/png": "[encoded data removed]",
      "text/plain": [
       "<Figure size 432x288 with 1 Axes>"
      ]
     },
     "metadata": {
      "needs_background": "light"
     },
     "output_type": "display_data"
    }
   ],
   "source": [
    "c_array = [colors['yellowgreen'],colors['cornflowerblue'],colors['darkorange']]\n",
    "a = multi_walker(\n",
    "  n_steps=300,\n",
    "  starting_points=[[-4,-4],[0,0],[4,4]],\n",
    "  step_sizes=[[1,1],[1,1],[1,1]]\n",
    ")\n",
    "fig, ax = plt.subplots()\n",
    "for i in range(0,np.shape(a)[0]-1):\n",
    "  for j in range(0,np.shape(a)[2]):\n",
    "    p = plt.plot(\n",
    "      [\n",
    "        a[i,0,j],a[i+1,0,j]\n",
    "      ],[\n",
    "        a[i,1,j],a[i+1,1,j]\n",
    "      ],\n",
    "      '-',color=c_array[j],alpha=.2,linewidth=3)\n",
    "ax.axis('equal')\n",
    "plt.savefig('cool_walk_bro.png',dpi=600)\n",
    "# plt.savefig('cool_walk_bro.pdf')"
   ]
  }
 ],
 "metadata": {
  "kernelspec": {
   "display_name": "Python 3",
   "language": "python",
   "name": "python3"
  },
  "language_info": {
   "codemirror_mode": {
    "name": "ipython",
    "version": 3
   },
   "file_extension": ".py",
   "mimetype": "text/x-python",
   "name": "python",
   "nbconvert_exporter": "python",
   "pygments_lexer": "ipython3",
   "version": "3.7.3"
  },
  "varInspector": {
   "cols": {
    "lenName": 16,
    "lenType": 16,
    "lenVar": 40
   },
   "kernels_config": {
    "python": {
     "delete_cmd_postfix": "",
     "delete_cmd_prefix": "del ",
     "library": "var_list.py",
     "varRefreshCmd": "print(var_dic_list())"
    },
    "r": {
     "delete_cmd_postfix": ") ",
     "delete_cmd_prefix": "rm(",
     "library": "var_list.r",
     "varRefreshCmd": "cat(var_dic_list()) "
    }
   },
   "types_to_exclude": [
    "module",
    "function",
    "builtin_function_or_method",
    "instance",
    "_Feature"
   ],
   "window_display": false
  }
 },
 "nbformat": 4,
 "nbformat_minor": 2
}
